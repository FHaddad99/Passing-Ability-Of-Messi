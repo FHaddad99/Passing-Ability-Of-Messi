{
 "cells": [
  {
   "cell_type": "markdown",
   "id": "1934cd0d",
   "metadata": {},
   "source": [
    "# Run code in this section before executing the different sections and change event # depending on specific match"
   ]
  },
  {
   "cell_type": "code",
   "execution_count": 1,
   "id": "ad81a037",
   "metadata": {},
   "outputs": [],
   "source": [
    "# Importing Libraries\n",
    "\n",
    "import matplotlib.pyplot as plt\n",
    "from matplotlib import rcParams\n",
    "import pandas as pd\n",
    "import numpy as np\n",
    "from statsbombpy import sb\n",
    "from mplsoccer import Pitch, VerticalPitch, FontManager, Sbopen\n",
    "from IPython.display import display\n",
    "import json\n",
    "import os\n",
    "\n",
    "# Setting default text color\n",
    "rcParams['text.color'] = '#c7d5cc' # Comment this out for the Argentinian Passing Network"
   ]
  },
  {
   "cell_type": "code",
   "execution_count": 2,
   "id": "48299fbe",
   "metadata": {},
   "outputs": [],
   "source": [
    "# Using Sbopen() to open event data, related events data, freeze frame data, and tactics data from the world cup final using its respective match id\n",
    "\n",
    "parser = Sbopen()\n",
    "df, related, freeze, tactics = parser.event(3869685)"
   ]
  },
  {
   "cell_type": "code",
   "execution_count": 3,
   "id": "6e432bac",
   "metadata": {},
   "outputs": [
    {
     "name": "stdout",
     "output_type": "stream",
     "text": [
      "     teammate  match_id                                    id      x     y  \\\n",
      "0       False   3869685  545c2c84-018f-4570-a01c-753823feaeac  101.0  48.0   \n",
      "1       False   3869685  545c2c84-018f-4570-a01c-753823feaeac  102.8  36.1   \n",
      "2       False   3869685  545c2c84-018f-4570-a01c-753823feaeac  103.0  26.7   \n",
      "3       False   3869685  545c2c84-018f-4570-a01c-753823feaeac  101.9  21.4   \n",
      "4       False   3869685  545c2c84-018f-4570-a01c-753823feaeac   98.6  27.9   \n",
      "..        ...       ...                                   ...    ...   ...   \n",
      "353     False   3869685  449f2702-ad18-4bc8-a9ef-59fb1dc1a707  118.1  42.4   \n",
      "354      True   3869685  449f2702-ad18-4bc8-a9ef-59fb1dc1a707  119.2  58.0   \n",
      "355      True   3869685  449f2702-ad18-4bc8-a9ef-59fb1dc1a707  100.8  54.5   \n",
      "356      True   3869685  449f2702-ad18-4bc8-a9ef-59fb1dc1a707  101.9  38.8   \n",
      "357     False   3869685  54e27ba9-b9ae-44a3-ac8d-fc91e76a1b91  119.9  40.0   \n",
      "\n",
      "     player_id                      player_name  position_id  \\\n",
      "0         6704  Theo Bernard François Hernández            6   \n",
      "1         8519         Dayotchanculle Upamecano            5   \n",
      "2         5485                   Raphaël Varane            3   \n",
      "3         4445                     Jules Koundé            2   \n",
      "4        10481        Aurélien Djani Tchouaméni            9   \n",
      "..         ...                              ...          ...   \n",
      "353       3099                      Hugo Lloris            1   \n",
      "354      28263            Gonzalo Ariel Montiel            7   \n",
      "355       5503   Lionel Andrés Messi Cuccittini           22   \n",
      "356      38718                   Enzo Fernandez           13   \n",
      "357       6909         Damián Emiliano Martínez            1   \n",
      "\n",
      "                position_name  event_freeze_id  \n",
      "0                   Left Back                1  \n",
      "1            Left Center Back                2  \n",
      "2           Right Center Back                3  \n",
      "3                  Right Back                4  \n",
      "4    Right Defensive Midfield                5  \n",
      "..                        ...              ...  \n",
      "353                Goalkeeper                7  \n",
      "354           Right Wing Back                8  \n",
      "355      Right Center Forward                9  \n",
      "356     Right Center Midfield               10  \n",
      "357                Goalkeeper                1  \n",
      "\n",
      "[358 rows x 10 columns]\n",
      "                                        id  index  period        timestamp  \\\n",
      "0     0584ee21-e3dd-4d9f-95a0-5b5e84be25c3      1       1         00:00:00   \n",
      "1     b32679f8-942e-4122-96a2-015caf75e628      2       1         00:00:00   \n",
      "2     954f6855-de22-46a2-8d09-6fe94eec2b9b      3       1         00:00:00   \n",
      "3     6404a8e8-afaf-489d-b65e-173a237ffed5      4       1         00:00:00   \n",
      "4     f651a6c4-55e3-4e0f-a178-59414ba83d6a      5       1  00:00:00.578000   \n",
      "...                                    ...    ...     ...              ...   \n",
      "4402  071e5f12-a2c3-455d-8129-2b14cb81fad8   4403       5  00:05:10.130000   \n",
      "4403  66eaf262-999f-4953-a924-f1b596de4dbf   4404       5  00:05:57.883000   \n",
      "4404  14d51627-1f8e-42ec-bf97-74f1f22c5e40   4405       5  00:05:58.379000   \n",
      "4405  0e712309-2130-4ad9-ab32-cda2e26c4d0b   4406       5  00:05:58.866000   \n",
      "4406  4f66bdf1-2c51-483a-b45a-89b525bc23c0   4407       5  00:05:58.866000   \n",
      "\n",
      "      minute  second  possession  duration  match_id  type_id  ...  \\\n",
      "0          0       0           1  0.000000   3869685       35  ...   \n",
      "1          0       0           1  0.000000   3869685       35  ...   \n",
      "2          0       0           1  0.000000   3869685       18  ...   \n",
      "3          0       0           1  0.000000   3869685       18  ...   \n",
      "4          0       0           2  0.975702   3869685       30  ...   \n",
      "...      ...     ...         ...       ...       ...      ...  ...   \n",
      "4402     125      10         254  0.000000   3869685       23  ...   \n",
      "4403     125      57         255  0.496009   3869685       16  ...   \n",
      "4404     125      58         255  0.000000   3869685       23  ...   \n",
      "4405     125      58         255  0.000000   3869685       34  ...   \n",
      "4406     125      58         255  0.000000   3869685       34  ...   \n",
      "\n",
      "     foul_committed_card_id  foul_committed_card_name ball_recovery_offensive  \\\n",
      "0                       NaN                       NaN                     NaN   \n",
      "1                       NaN                       NaN                     NaN   \n",
      "2                       NaN                       NaN                     NaN   \n",
      "3                       NaN                       NaN                     NaN   \n",
      "4                       NaN                       NaN                     NaN   \n",
      "...                     ...                       ...                     ...   \n",
      "4402                    NaN                       NaN                     NaN   \n",
      "4403                    NaN                       NaN                     NaN   \n",
      "4404                    NaN                       NaN                     NaN   \n",
      "4405                    NaN                       NaN                     NaN   \n",
      "4406                    NaN                       NaN                     NaN   \n",
      "\n",
      "      shot_one_on_one foul_committed_advantage  foul_won_advantage  \\\n",
      "0                 NaN                      NaN                 NaN   \n",
      "1                 NaN                      NaN                 NaN   \n",
      "2                 NaN                      NaN                 NaN   \n",
      "3                 NaN                      NaN                 NaN   \n",
      "4                 NaN                      NaN                 NaN   \n",
      "...               ...                      ...                 ...   \n",
      "4402              NaN                      NaN                 NaN   \n",
      "4403              NaN                      NaN                 NaN   \n",
      "4404              NaN                      NaN                 NaN   \n",
      "4405              NaN                      NaN                 NaN   \n",
      "4406              NaN                      NaN                 NaN   \n",
      "\n",
      "     block_offensive  foul_committed_offensive  bad_behaviour_card_id  \\\n",
      "0                NaN                       NaN                    NaN   \n",
      "1                NaN                       NaN                    NaN   \n",
      "2                NaN                       NaN                    NaN   \n",
      "3                NaN                       NaN                    NaN   \n",
      "4                NaN                       NaN                    NaN   \n",
      "...              ...                       ...                    ...   \n",
      "4402             NaN                       NaN                    NaN   \n",
      "4403             NaN                       NaN                    NaN   \n",
      "4404             NaN                       NaN                    NaN   \n",
      "4405             NaN                       NaN                    NaN   \n",
      "4406             NaN                       NaN                    NaN   \n",
      "\n",
      "     bad_behaviour_card_name  \n",
      "0                        NaN  \n",
      "1                        NaN  \n",
      "2                        NaN  \n",
      "3                        NaN  \n",
      "4                        NaN  \n",
      "...                      ...  \n",
      "4402                     NaN  \n",
      "4403                     NaN  \n",
      "4404                     NaN  \n",
      "4405                     NaN  \n",
      "4406                     NaN  \n",
      "\n",
      "[4407 rows x 76 columns]\n",
      "      match_id                                    id  index     type_name  \\\n",
      "0      3869685  954f6855-de22-46a2-8d09-6fe94eec2b9b      3    Half Start   \n",
      "1      3869685  6404a8e8-afaf-489d-b65e-173a237ffed5      4    Half Start   \n",
      "2      3869685  f651a6c4-55e3-4e0f-a178-59414ba83d6a      5          Pass   \n",
      "3      3869685  97b5dc82-547a-4f93-a632-a2a8daf5ac98      6  Ball Receipt   \n",
      "4      3869685  9707e590-1d55-4d25-a50f-475019356152      7         Carry   \n",
      "...        ...                                   ...    ...           ...   \n",
      "6024   3869685  ed6f0241-1c26-4d7f-a90c-ccb9519bb58b   4375       Dribble   \n",
      "6034   3869685  422f382b-2e44-4e3b-8f8e-281f8768995d   4379       Dribble   \n",
      "6036   3869685  ed6f0241-1c26-4d7f-a90c-ccb9519bb58b   4375       Dribble   \n",
      "6045   3869685  422f382b-2e44-4e3b-8f8e-281f8768995d   4379       Dribble   \n",
      "6047   3869685  81e88fa1-4c5c-4ca9-b424-c1c03620a767   4382       Dribble   \n",
      "\n",
      "                                id_related  index_related type_name_related  \n",
      "0     6404a8e8-afaf-489d-b65e-173a237ffed5              4        Half Start  \n",
      "1     954f6855-de22-46a2-8d09-6fe94eec2b9b              3        Half Start  \n",
      "2     97b5dc82-547a-4f93-a632-a2a8daf5ac98              6      Ball Receipt  \n",
      "3     f651a6c4-55e3-4e0f-a178-59414ba83d6a              5              Pass  \n",
      "4     97b5dc82-547a-4f93-a632-a2a8daf5ac98              6      Ball Receipt  \n",
      "...                                    ...            ...               ...  \n",
      "6024  dbf1a1e4-2b59-4aae-b9ca-6ffb3513afff           4371             Carry  \n",
      "6034  5e6d70d0-b9ee-4ae3-8adf-546813e03ead           4376             Carry  \n",
      "6036  5e6d70d0-b9ee-4ae3-8adf-546813e03ead           4376             Carry  \n",
      "6045  e9a67e7c-e9ee-4df6-bd77-596cfa2c0c1e           4380             Carry  \n",
      "6047  e9a67e7c-e9ee-4df6-bd77-596cfa2c0c1e           4380             Carry  \n",
      "\n",
      "[7956 rows x 7 columns]\n",
      "    jersey_number  match_id                                    id  player_id  \\\n",
      "0              23   3869685  0584ee21-e3dd-4d9f-95a0-5b5e84be25c3       6909   \n",
      "1              26   3869685  0584ee21-e3dd-4d9f-95a0-5b5e84be25c3      29201   \n",
      "2              13   3869685  0584ee21-e3dd-4d9f-95a0-5b5e84be25c3      20572   \n",
      "3              19   3869685  0584ee21-e3dd-4d9f-95a0-5b5e84be25c3       3090   \n",
      "4               3   3869685  0584ee21-e3dd-4d9f-95a0-5b5e84be25c3       5507   \n",
      "..            ...       ...                                   ...        ...   \n",
      "94              5   3869685  68fe5a2d-6340-42e3-9c72-1c6d55815da7      16308   \n",
      "95             24   3869685  68fe5a2d-6340-42e3-9c72-1c6d55815da7      38718   \n",
      "96             21   3869685  68fe5a2d-6340-42e3-9c72-1c6d55815da7       5743   \n",
      "97             10   3869685  68fe5a2d-6340-42e3-9c72-1c6d55815da7       5503   \n",
      "98             22   3869685  68fe5a2d-6340-42e3-9c72-1c6d55815da7      11456   \n",
      "\n",
      "                       player_name  position_id              position_name  \\\n",
      "0         Damián Emiliano Martínez            1                 Goalkeeper   \n",
      "1             Nahuel Molina Lucero            2                 Right Back   \n",
      "2          Cristian Gabriel Romero            3          Right Center Back   \n",
      "3          Nicolás Hernán Otamendi            5           Left Center Back   \n",
      "4     Nicolás Alejandro Tagliafico            6                  Left Back   \n",
      "..                             ...          ...                        ...   \n",
      "94          Leandro Daniel Paredes           10  Center Defensive Midfield   \n",
      "95                  Enzo Fernandez           13      Right Center Midfield   \n",
      "96     Paulo Bruno Exequiel Dybala           15       Left Center Midfield   \n",
      "97  Lionel Andrés Messi Cuccittini           22       Right Center Forward   \n",
      "98         Lautaro Javier Martínez           24        Left Center Forward   \n",
      "\n",
      "    event_tactics_id  \n",
      "0                  1  \n",
      "1                  2  \n",
      "2                  3  \n",
      "3                  4  \n",
      "4                  5  \n",
      "..               ...  \n",
      "94                 7  \n",
      "95                 8  \n",
      "96                 9  \n",
      "97                10  \n",
      "98                11  \n",
      "\n",
      "[99 rows x 8 columns]\n"
     ]
    }
   ],
   "source": [
    "# Viewing the contents of the retrieved data\n",
    "\n",
    "print(freeze)\n",
    "print(df)\n",
    "print(related)\n",
    "print(tactics)"
   ]
  },
  {
   "cell_type": "markdown",
   "id": "66f26525",
   "metadata": {},
   "source": [
    "# Argentinian Passing Network During 2022 World Cup Final"
   ]
  },
  {
   "cell_type": "code",
   "execution_count": null,
   "id": "293f18be",
   "metadata": {},
   "outputs": [],
   "source": [
    "# Check for index of first substitution\n",
    "sub = df.loc[df[\"type_name\"] == \"Substitution\"].loc[df[\"team_name\"] == \"Argentina\"].iloc[0][\"index\"]\n",
    "\n",
    "# Make a dataframe with successful passes by Argentina until the first substitution\n",
    "mask_argentina = (df.type_name == 'Pass') & (df.team_name == \"Argentina\") & (df.index < sub) & (df.outcome_name.isnull()) & (df.sub_type_name != \"Throw-in\")\n",
    "df_pass = df.loc[mask_argentina, ['x', 'y', 'end_x', 'end_y', \"player_name\", \"pass_recipient_name\"]]\n",
    "\n",
    "# Checking for index of first substitution\n",
    "sub = df.loc[df[\"type_name\"] == \"Substitution\"].loc[df[\"team_name\"] == \"Argentina\"].iloc[0][\"index\"]\n",
    "# Making a dataframe with successfull passes by Argentina until the first substitution\n",
    "mask_argentina = (df.type_name == 'Pass') & (df.team_name == \"Argentina\") & (df.index < sub) & (df.outcome_name.isnull()) & (df.sub_type_name != \"Throw-in\")\n",
    "# Taking necessary columns\n",
    "df_pass = df.loc[mask_argentina, ['x', 'y', 'end_x', 'end_y', \"player_name\", \"pass_recipient_name\"]]"
   ]
  },
  {
   "cell_type": "code",
   "execution_count": null,
   "id": "2498ba88",
   "metadata": {},
   "outputs": [],
   "source": [
    "# Creating a new empty dataframe \n",
    "scatter_df = pd.DataFrame()\n",
    "\n",
    "# Iterating over dataframe for specific data within columns \n",
    "for i, name in enumerate(df_pass[\"player_name\"].unique()):\n",
    "    passx = df_pass.loc[df_pass[\"player_name\"] == name][\"x\"].to_numpy()\n",
    "    recx = df_pass.loc[df_pass[\"pass_recipient_name\"] == name][\"end_x\"].to_numpy()\n",
    "    passy = df_pass.loc[df_pass[\"player_name\"] == name][\"y\"].to_numpy()\n",
    "    recy = df_pass.loc[df_pass[\"pass_recipient_name\"] == name][\"end_y\"].to_numpy()\n",
    "    scatter_df.at[i, \"player_name\"] = name\n",
    "# Making sure that x and y location for each circle representing the player is the average of passes and receptions\n",
    "    scatter_df.at[i, \"x\"] = np.mean(np.concatenate([passx, recx]))\n",
    "    scatter_df.at[i, \"y\"] = np.mean(np.concatenate([passy, recy]))\n",
    "# Calculating the number of passes\n",
    "    scatter_df.at[i, \"no\"] = df_pass.loc[df_pass[\"player_name\"] == name].count().iloc[0]\n",
    "\n",
    "# Adjusting the size of the circles so that it is larger for players who make more passes\n",
    "scatter_df['marker_size'] = (scatter_df['no'] / scatter_df['no'].max() * 1500)"
   ]
  },
  {
   "cell_type": "code",
   "execution_count": null,
   "id": "04e2cd3f",
   "metadata": {},
   "outputs": [],
   "source": [
    "# Counting passes between players\n",
    "df_pass[\"pair_key\"] = df_pass.apply(lambda x: \"_\".join(sorted([x[\"player_name\"], x[\"pass_recipient_name\"]])), axis=1)\n",
    "lines_df = df_pass.groupby([\"pair_key\"]).x.count().reset_index()\n",
    "lines_df.rename({'x':'pass_count'}, axis='columns', inplace=True)\n",
    "# Setting a treshold for number of passes\n",
    "lines_df = lines_df[lines_df['pass_count']>0] #2 is the default nunber they use to narrow it down a little - 0 shows all of the passes"
   ]
  },
  {
   "cell_type": "code",
   "execution_count": null,
   "id": "0f772b40",
   "metadata": {},
   "outputs": [],
   "source": [
    "# Drawing pitch\n",
    "pitch = Pitch(line_color='grey')\n",
    "fig, ax = pitch.grid(grid_height=0.9, title_height=0.06, axis=False,\n",
    "                     endnote_height=0.04, title_space=0, endnote_space=0)\n",
    "# Scatter the location on the pitch\n",
    "pitch.scatter(scatter_df.x, scatter_df.y, s=scatter_df.marker_size, color='red', edgecolors='grey', linewidth=1, alpha=1, ax=ax[\"pitch\"], zorder = 3)\n",
    "# Annotating player name\n",
    "for i, row in scatter_df.iterrows():\n",
    "    pitch.annotate(row.player_name, xy=(row.x, row.y), c='black', va='center', ha='center', weight = \"bold\", size=16, ax=ax[\"pitch\"], zorder = 4)\n",
    "\n",
    "fig.suptitle(\"Nodes location - Argentina\", fontsize = 30)\n",
    "plt.show()"
   ]
  },
  {
   "cell_type": "code",
   "execution_count": null,
   "id": "7ff3b0ba",
   "metadata": {},
   "outputs": [],
   "source": [
    "# Plot once again pitch and vertices\n",
    "pitch = Pitch(line_color='grey')\n",
    "fig, ax = pitch.grid(grid_height=0.9, title_height=0.06, axis=False,\n",
    "                     endnote_height=0.04, title_space=0, endnote_space=0)\n",
    "\n",
    "# Plotting pass networks based on pair key and average location \n",
    "for i, row in scatter_df.iterrows():\n",
    "    pitch.annotate(row.player_name, xy=(row.x, row.y), c='black', va='center', ha='center', weight = \"bold\", size=16, ax=ax[\"pitch\"], zorder = 4)\n",
    "# Iterating over the rows for passes between players and their locations\n",
    "for i, row in lines_df.iterrows():\n",
    "        player1 = row[\"pair_key\"].split(\"_\")[0]\n",
    "        player2 = row['pair_key'].split(\"_\")[1]\n",
    "        # Taking the average location of players to plot a line between them\n",
    "        player1_x = scatter_df.loc[scatter_df[\"player_name\"] == player1]['x'].iloc[0]\n",
    "        player1_y = scatter_df.loc[scatter_df[\"player_name\"] == player1]['y'].iloc[0]\n",
    "        player2_x = scatter_df.loc[scatter_df[\"player_name\"] == player2]['x'].iloc[0]\n",
    "        player2_y = scatter_df.loc[scatter_df[\"player_name\"] == player2]['y'].iloc[0]\n",
    "        num_passes = row[\"pass_count\"]\n",
    "        # Adjusting the line width so that the more passes, the wider the line\n",
    "        line_width = (num_passes / lines_df['pass_count'].max() * 10)\n",
    "        # Plotting the lines\n",
    "        pitch.lines(player1_x, player1_y, player2_x, player2_y,\n",
    "                        alpha=1, lw=line_width, zorder=2, color=\"red\", ax = ax[\"pitch\"])\n",
    "\n",
    "fig.suptitle(\"Argentina Passing Network against France\", fontsize = 30)\n",
    "plt.show()"
   ]
  },
  {
   "cell_type": "code",
   "execution_count": null,
   "id": "65de2997",
   "metadata": {},
   "outputs": [],
   "source": [
    "## Code template used from \n",
    "#https://soccermatics.readthedocs.io/en/latest/gallery/lesson1/plot_PassNetworks.html"
   ]
  },
  {
   "cell_type": "markdown",
   "id": "9841b830",
   "metadata": {},
   "source": [
    "# Messi's passes by foot during 2022 World Cup Final"
   ]
  },
  {
   "cell_type": "code",
   "execution_count": null,
   "id": "55838490",
   "metadata": {},
   "outputs": [],
   "source": [
    "# Creating an identifyer for Messi's passes\n",
    "mask_messi = (df.type_name == 'Pass') & (df.player_id == 5503)"
   ]
  },
  {
   "cell_type": "code",
   "execution_count": null,
   "id": "170222c4",
   "metadata": {},
   "outputs": [],
   "source": [
    "# Creating a dataframe \n",
    "df_pass = df.loc[mask_messi, ['x', 'y', 'end_x', 'end_y', 'outcome_name', 'id', 'body_part_name']]\n",
    "mask_complete = df_pass.outcome_name.isnull()"
   ]
  },
  {
   "cell_type": "code",
   "execution_count": null,
   "id": "6d8c0049",
   "metadata": {},
   "outputs": [],
   "source": [
    "df_pass.head()"
   ]
  },
  {
   "cell_type": "code",
   "execution_count": null,
   "id": "69e99868",
   "metadata": {},
   "outputs": [],
   "source": [
    "# Filter the dataframe for Messi's left-footed passes\n",
    "mask_messi_left = (df_pass['body_part_name'] == 'Left Foot') & (df.type_name == 'Pass') & (df.player_id == 5503)\n",
    "mask_messi_right = (df_pass['body_part_name'] == 'Right Foot') & (df.type_name == 'Pass') & (df.player_id == 5503)"
   ]
  },
  {
   "cell_type": "code",
   "execution_count": null,
   "id": "ecc20cc7",
   "metadata": {},
   "outputs": [],
   "source": [
    "# Setup the pitch\n",
    "pitch = Pitch(pitch_type='statsbomb', pitch_color='#22312b', line_color='#c7d5cc')\n",
    "fig, ax = pitch.draw(figsize=(16, 11), constrained_layout=False, tight_layout=True)\n",
    "fig.set_facecolor('#22312b')\n",
    "\n",
    "# Plot the left-footed completed passes\n",
    "lc1 = pitch.lines(df_pass[mask_messi_left & mask_complete].x, df_pass[mask_messi_left & mask_complete].y,\n",
    "                  df_pass[mask_messi_left & mask_complete].end_x, df_pass[mask_messi_left & mask_complete].end_y,\n",
    "                  lw=5, transparent=True, comet=True, label='completed left-footed passes',\n",
    "                  color='#ad993c', ax=ax)\n",
    "\n",
    "# Plot the other left-footed passes\n",
    "lc2 = pitch.lines(df_pass[mask_messi_left & ~mask_complete].x, df_pass[mask_messi_left & ~mask_complete].y,\n",
    "                  df_pass[mask_messi_left & ~mask_complete].end_x, df_pass[mask_messi_left & ~mask_complete].end_y,\n",
    "                  lw=5, transparent=True, comet=True, label='other left-footed passes',\n",
    "                  color='#ba4f45', ax=ax)\n",
    "\n",
    "# Plot the legend\n",
    "ax.legend(facecolor='#22312b', edgecolor='None', fontsize=20, loc='upper left', handlelength=4)\n",
    "\n",
    "# Set the title\n",
    "fig.suptitle(\"Messi's left-footed passes vs France\", fontsize=30)"
   ]
  },
  {
   "cell_type": "code",
   "execution_count": null,
   "id": "7e8ba97e",
   "metadata": {},
   "outputs": [],
   "source": [
    "# Setup the pitch\n",
    "pitch = Pitch(pitch_type='statsbomb', pitch_color='#22312b', line_color='#c7d5cc')\n",
    "fig, ax = pitch.draw(figsize=(16, 11), constrained_layout=False, tight_layout=True)\n",
    "fig.set_facecolor('#22312b')\n",
    "\n",
    "# Plot the right-footed completed passes\n",
    "lc1 = pitch.lines(df_pass[mask_messi_right & mask_complete].x, df_pass[mask_messi_right & mask_complete].y,\n",
    "                  df_pass[mask_messi_right & mask_complete].end_x, df_pass[mask_messi_right & mask_complete].end_y,\n",
    "                  lw=5, transparent=True, comet=True, label='completed right-footed passes',\n",
    "                  color='#ad993c', ax=ax)\n",
    "\n",
    "# Plot the other right-footed passes\n",
    "lc2 = pitch.lines(df_pass[mask_messi_right & ~mask_complete].x, df_pass[mask_messi_right & ~mask_complete].y,\n",
    "                  df_pass[mask_messi_right & ~mask_complete].end_x, df_pass[mask_messi_right & ~mask_complete].end_y,\n",
    "                  lw=5, transparent=True, comet=True, label='other right-footed passes',\n",
    "                  color='#ba4f45', ax=ax)\n",
    "\n",
    "# Plot the legend\n",
    "ax.legend(facecolor='#22312b', edgecolor='None', fontsize=20, loc='upper left', handlelength=4)\n",
    "\n",
    "# Set the title\n",
    "fig.suptitle(\"Messi's right-footed passes vs France\", fontsize=30)"
   ]
  },
  {
   "cell_type": "markdown",
   "id": "ec3a4038",
   "metadata": {},
   "source": [
    "# Messi's Total Passes during 2022 World Cup Final"
   ]
  },
  {
   "cell_type": "code",
   "execution_count": null,
   "id": "0e8f9d26",
   "metadata": {},
   "outputs": [],
   "source": [
    "# Setup the pitch\n",
    "pitch = Pitch(pitch_type='statsbomb', pitch_color='#22312b', line_color='#c7d5cc')\n",
    "fig, ax = pitch.draw(figsize=(16, 11), constrained_layout=False, tight_layout=True)\n",
    "fig.set_facecolor('#22312b')\n",
    "\n",
    "# Plot the completed passes\n",
    "lc1 = pitch.lines(df_pass[mask_complete].x, df_pass[mask_complete].y,\n",
    "                  df_pass[mask_complete].end_x, df_pass[mask_complete].end_y,\n",
    "                  lw=5, transparent=True, comet=True, label='completed passes',\n",
    "                  color='#ad993c', ax=ax)\n",
    "\n",
    "# Plot the other passes\n",
    "lc2 = pitch.lines(df_pass[~mask_complete].x, df_pass[~mask_complete].y,\n",
    "                  df_pass[~mask_complete].end_x, df_pass[~mask_complete].end_y,\n",
    "                  lw=5, transparent=True, comet=True, label='other passes',\n",
    "                  color='#ba4f45', ax=ax)\n",
    "\n",
    "# Plot the legend\n",
    "ax.legend(facecolor='#22312b', edgecolor='None', fontsize=20, loc='upper left', handlelength=4)\n",
    "\n",
    "# Set the title\n",
    "fig.suptitle(\"Messi's total passes vs France\", fontsize = 30)"
   ]
  },
  {
   "cell_type": "markdown",
   "id": "d88462e9",
   "metadata": {},
   "source": [
    "# Messi's Incomplete Passes During 2020-21 La Liga Season"
   ]
  },
  {
   "cell_type": "code",
   "execution_count": null,
   "id": "cbc3f19a",
   "metadata": {},
   "outputs": [],
   "source": [
    "# Open the data and assign it to 'df'dataframe\n",
    "parser = Sbopen()\n",
    "df = parser.match(competition_id=11, season_id=90)"
   ]
  },
  {
   "cell_type": "code",
   "execution_count": null,
   "id": "76400e0b",
   "metadata": {},
   "outputs": [],
   "source": [
    "# Looking at the columns within the dataframe\n",
    "print (df.columns)"
   ]
  },
  {
   "cell_type": "code",
   "execution_count": null,
   "id": "2db055c3",
   "metadata": {},
   "outputs": [],
   "source": [
    "team = \"Barcelona\"\n",
    "\n",
    "# Get list of games by Barcelona, either home or away\n",
    "match_ids = df.loc[(df[\"home_team_name\"] == team) | (df[\"away_team_name\"] == team)][\"match_id\"].tolist()\n",
    "\n",
    "# Calculate number of games\n",
    "no_games = len(match_ids)"
   ]
  },
  {
   "cell_type": "code",
   "execution_count": null,
   "id": "5136d279",
   "metadata": {},
   "outputs": [],
   "source": [
    "# Viewing filtered match ids and number of matches during the season\n",
    "print(match_ids)\n",
    "print(no_games)"
   ]
  },
  {
   "cell_type": "code",
   "execution_count": null,
   "id": "75c951ba",
   "metadata": {},
   "outputs": [],
   "source": [
    "# Declaring an empty dataframe for danger passes\n",
    "incomplete_passes = pd.DataFrame()\n",
    "for idx in match_ids:\n",
    "    # Opening the event data for this match\n",
    "    df = parser.event(idx)[0]\n",
    "    for period in [1, 2]:\n",
    "        # Keeping only accurate passes by Messi that were not set pieces in this period\n",
    "        mask_pass = (df.player_id == 5503) & (df.type_name == \"Pass\") & (df.outcome_name == \"Incomplete\") & (df.sub_type_name.isnull())\n",
    "        # Keeping necessary columns\n",
    "        passes = df.loc[mask_pass, [\"x\", \"y\", \"end_x\", \"end_y\", \"under_pressure\"]]\n",
    "        \n",
    "        # Concatenating dataframe with a previous one to keep danger passes from the whole season\n",
    "        incomplete_passes = pd.concat([incomplete_passes, passes], ignore_index = True)"
   ]
  },
  {
   "cell_type": "code",
   "execution_count": null,
   "id": "d3b96be9",
   "metadata": {},
   "outputs": [],
   "source": [
    "# Setup the pitch\n",
    "pitch = Pitch(pitch_type='statsbomb', pitch_color='#22312b', line_color='#c7d5cc')\n",
    "fig, ax = pitch.draw(figsize=(16, 11), constrained_layout=False, tight_layout=True)\n",
    "fig.set_facecolor('#22312b')\n",
    "\n",
    "# Plot the incomplete passes under pressure\n",
    "lc1 = pitch.scatter(incomplete_passes[incomplete_passes['under_pressure'] == True].x,\n",
    "                    incomplete_passes[incomplete_passes['under_pressure'] == True].y,\n",
    "                    s=100, label='incomplete passes under pressure', color='red', edgecolors='grey', linewidth=1, alpha=0.2, ax=ax)\n",
    "\n",
    "# Plot the other incomplete passes\n",
    "lc2 = pitch.scatter(incomplete_passes[incomplete_passes['under_pressure'].isnull()].x,\n",
    "                    incomplete_passes[incomplete_passes['under_pressure'].isnull()].y,\n",
    "                    s=100, label='other incomplete passes', color='orange', edgecolors='grey', linewidth=1, alpha=0.2, ax=ax)\n",
    "\n",
    "# Plot the legend\n",
    "ax.legend(facecolor='#22312b', edgecolor='None', fontsize=20, loc='upper left', handlelength=4)\n",
    "\n",
    "# Set the title\n",
    "fig.suptitle(\"Messi's incomplete passes during the 2020-21 La Liga Season\", fontsize=30)"
   ]
  },
  {
   "cell_type": "markdown",
   "id": "3555b4a4",
   "metadata": {},
   "source": [
    "# Messi's Danger Passes Heat Map For La Liga Seasons"
   ]
  },
  {
   "cell_type": "code",
   "execution_count": null,
   "id": "feb5833d",
   "metadata": {},
   "outputs": [],
   "source": [
    "# Open the data and assign it to 'df'dataframe\n",
    "parser = Sbopen()\n",
    "# Selecting the 2020-21 La Liga Season\n",
    "df = parser.match(competition_id=11, season_id=90) \n",
    "# For 2014-15 season: (competition_id=11, season_id=26)\n",
    "# For 2017-18 season: (competition_id=11, season_id=1)"
   ]
  },
  {
   "cell_type": "code",
   "execution_count": null,
   "id": "4bf4f43e",
   "metadata": {},
   "outputs": [],
   "source": [
    "# Looking at the columns within the dataframe\n",
    "print (df.columns)"
   ]
  },
  {
   "cell_type": "code",
   "execution_count": null,
   "id": "289417ef",
   "metadata": {},
   "outputs": [],
   "source": [
    "team = \"Barcelona\"\n",
    "\n",
    "# Get list of games by Barcelona, either home or away\n",
    "match_ids = df.loc[(df[\"home_team_name\"] == team) | (df[\"away_team_name\"] == team)][\"match_id\"].tolist()\n",
    "\n",
    "# Calculate number of games\n",
    "no_games = len(match_ids)"
   ]
  },
  {
   "cell_type": "code",
   "execution_count": null,
   "id": "555aef11",
   "metadata": {},
   "outputs": [],
   "source": [
    "# Viewing filtered match ids and number of matches during the season\n",
    "print(match_ids)\n",
    "print(no_games)"
   ]
  },
  {
   "cell_type": "code",
   "execution_count": null,
   "id": "669bd430",
   "metadata": {},
   "outputs": [],
   "source": [
    "# Declaring an empty dataframe for danger passes\n",
    "danger_passes = pd.DataFrame()\n",
    "for idx in match_ids:\n",
    "    # Opening the event data for this match\n",
    "    df = parser.event(idx)[0]\n",
    "    for period in [1, 2]:\n",
    "        # Keeping only accurate passes by Messi that were not set pieces in this period\n",
    "        mask_pass = (df.player_id == 5503) & (df.type_name == \"Pass\") & (df.outcome_name.isnull()) & (df.period == period) & (df.sub_type_name.isnull())\n",
    "        # Keeping necessary columns\n",
    "        passes = df.loc[mask_pass, [\"x\", \"y\", \"end_x\", \"end_y\", \"minute\", \"second\", \"player_id\"]]\n",
    "        # Keeping only Shots by Barcelona in this period\n",
    "        mask_shot = (df.player_id == 5503) & (df.type_name == \"Shot\") & (df.period == period)\n",
    "        # Keeping necessary columns\n",
    "        shots = df.loc[mask_shot, [\"minute\", \"second\"]]\n",
    "        # Converting time to seconds\n",
    "        shot_times = shots['minute']*60+shots['second']\n",
    "        shot_window = 15\n",
    "        # Finding the start of the window\n",
    "        shot_start = shot_times - shot_window\n",
    "        # Condition to avoid negative shot starts\n",
    "        shot_start = shot_start.apply(lambda i: i if i>0 else (period-1)*45)\n",
    "        # Converting to seconds\n",
    "        pass_times = passes['minute']*60+passes['second']\n",
    "        # Checking if pass is in any of the windows for this half\n",
    "        pass_to_shot = pass_times.apply(lambda x: True in ((shot_start < x) & (x < shot_times)).unique())\n",
    "\n",
    "        # Keeping only danger passes\n",
    "        danger_passes_period = passes.loc[pass_to_shot]\n",
    "        # Concatenating dataframe with a previous one to keep danger passes from the whole season\n",
    "        danger_passes = pd.concat([danger_passes, danger_passes_period], ignore_index = True)"
   ]
  },
  {
   "cell_type": "code",
   "execution_count": null,
   "id": "e022d40b",
   "metadata": {},
   "outputs": [],
   "source": [
    "# Plotting pitch\n",
    "pitch = Pitch(line_color='black')\n",
    "fig, ax = pitch.grid(grid_height=0.9, title_height=0.06, axis=False,\n",
    "                     endnote_height=0.04, title_space=0, endnote_space=0)\n",
    "# Plotting danger pass locations on the pitch\n",
    "pitch.scatter(danger_passes.x, danger_passes.y, s=100, color='blue', edgecolors='grey', linewidth=1, alpha=0.2, ax=ax[\"pitch\"])\n",
    "\n",
    "# Title\n",
    "fig.suptitle('Location of danger passes by Messi during 2020-21 La Liga Season', fontsize = 30) #Replace '2020-21' with '2014-15' or '2017-18' if you are using data from those seasons \n",
    "plt.show()"
   ]
  },
  {
   "cell_type": "code",
   "execution_count": null,
   "id": "74e852cf",
   "metadata": {},
   "outputs": [],
   "source": [
    "# Plotting vertical pitch\n",
    "pitch = Pitch(line_zorder=2, line_color='black')\n",
    "fig, ax = pitch.grid(grid_height=0.9, title_height=0.06, axis=False,\n",
    "                     endnote_height=0.04, title_space=0, endnote_space=0)\n",
    "# Getting the 2D histogram\n",
    "bin_statistic = pitch.bin_statistic(danger_passes.x, danger_passes.y, statistic='count', bins=(6, 5), normalize=False)\n",
    "# Normalize by number of games\n",
    "bin_statistic[\"statistic\"] = bin_statistic[\"statistic\"]/no_games\n",
    "# Making a heatmap\n",
    "pcm  = pitch.heatmap(bin_statistic, cmap='Reds', edgecolor='grey', ax=ax['pitch'])\n",
    "# Adding a legend and subtitle\n",
    "ax_cbar = fig.add_axes((1, 0.093, 0.03, 0.786))\n",
    "cbar = plt.colorbar(pcm, cax=ax_cbar)\n",
    "fig.suptitle('Danger passes by Messi' + \" Per Game During 2020-21 La Liga Season\", fontsize = 30) #Replace '2020-21' with '2014-15' or '2017-18' if you are using data from those seasons \n",
    "plt.show()"
   ]
  },
  {
   "cell_type": "markdown",
   "id": "f834ef78",
   "metadata": {},
   "source": [
    "# Plotting Messi's Assist vs Netherlands During 2022 World Cup Quarterfinal"
   ]
  },
  {
   "cell_type": "code",
   "execution_count": null,
   "id": "be68e858",
   "metadata": {},
   "outputs": [],
   "source": [
    "sb.competitions()"
   ]
  },
  {
   "cell_type": "code",
   "execution_count": null,
   "id": "3754df18",
   "metadata": {},
   "outputs": [],
   "source": [
    "# Filtering for specific season\n",
    "sb.matches(competition_id=43, season_id=106).head(50)"
   ]
  },
  {
   "cell_type": "code",
   "execution_count": null,
   "id": "43efb94e",
   "metadata": {},
   "outputs": [],
   "source": [
    "# Filtering for specific match\n",
    "MATCH_ID = 3869321"
   ]
  },
  {
   "cell_type": "code",
   "execution_count": null,
   "id": "63c844e8",
   "metadata": {},
   "outputs": [],
   "source": [
    "# Creating the events dataframe\n",
    "match_events_df = sb.events(match_id=MATCH_ID)"
   ]
  },
  {
   "cell_type": "code",
   "execution_count": null,
   "id": "266a093f",
   "metadata": {},
   "outputs": [],
   "source": [
    "# Manually importing the Statsbomb 360 data\n",
    "match_360_df = pd.read_json(f'C:/Users/PC/OneDrive/Documents/GitHub/open-data/data/three-sixty/{MATCH_ID}.json')\n",
    "    \n",
    "#(f'/Users/fadihaddad/Documents/GitHub/open-data/data/three-sixty/{MATCH_ID}.json') for MAC\n",
    "\n",
    "#(f'C:/Users/PC/OneDrive/Documents/GitHub/open-data/data/three-sixty/{MATCH_ID}.json') for PC"
   ]
  },
  {
   "cell_type": "code",
   "execution_count": null,
   "id": "da7237d7",
   "metadata": {},
   "outputs": [],
   "source": [
    "# Merging the two dataframes by using the match 'id' from the events dataframe and the 'event_uuid' from the match_360 dataframe\n",
    "df = pd.merge(left=match_events_df, right=match_360_df, left_on='id', right_on='event_uuid', how='left')"
   ]
  },
  {
   "cell_type": "code",
   "execution_count": null,
   "id": "7439c1b4",
   "metadata": {},
   "outputs": [],
   "source": [
    "# Viewing the merged dataframe\n",
    "df.head(25)\n",
    "df.columns"
   ]
  },
  {
   "cell_type": "code",
   "execution_count": null,
   "id": "d022f269",
   "metadata": {},
   "outputs": [],
   "source": [
    "# Filtering for Messi's passes\n",
    "MESSI = 5503\n",
    "\n",
    "df = df[(df['player_id'] == MESSI) & (df['type'] == 'Pass')].reset_index(drop=True)"
   ]
  },
  {
   "cell_type": "code",
   "execution_count": null,
   "id": "e549aab3",
   "metadata": {},
   "outputs": [],
   "source": [
    "# checking to see if the specific event data had match_360 data available\n",
    "\n",
    "print(df.event_uuid)"
   ]
  },
  {
   "cell_type": "code",
   "execution_count": null,
   "id": "30700ed9",
   "metadata": {},
   "outputs": [],
   "source": [
    "print(df.id)"
   ]
  },
  {
   "cell_type": "code",
   "execution_count": null,
   "id": "62327491",
   "metadata": {},
   "outputs": [],
   "source": [
    "# Defining the dataframe with the following columns to be used for plotting the start and end location of Messi's passes\n",
    "df[['x_start', 'y_start']] = pd.DataFrame(df.location.tolist(), index=df.index)\n",
    "df[['x_end', 'y_end']] = pd.DataFrame(df.pass_end_location.tolist(), index=df.index)"
   ]
  },
  {
   "cell_type": "code",
   "execution_count": null,
   "id": "c829ff32",
   "metadata": {},
   "outputs": [],
   "source": [
    "# Viewing location of the passes\n",
    "df.location"
   ]
  },
  {
   "cell_type": "code",
   "execution_count": null,
   "id": "34db7233",
   "metadata": {},
   "outputs": [],
   "source": [
    "# Setup the pitch\n",
    "p = Pitch(pitch_type='statsbomb', pitch_color='#22312b', line_color='#c7d5cc')\n",
    "fig, ax = p.draw(figsize=(16, 11), constrained_layout=False, tight_layout=True)\n",
    "fig.set_facecolor('#22312b')\n",
    "\n",
    "# Specifying plotted pass to plot row 14\n",
    "df_row = df.iloc[14]\n",
    "\n",
    "# Plotting the pass\n",
    "p.scatter(x=df_row['x_start'], y=df_row['y_start'], ax=ax)\n",
    "p.lines(xstart=df_row['x_start'], ystart=df_row['y_start'], xend=df_row['x_end'], yend=df_row['y_end'], color='#ad993c', ax=ax)\n",
    "\n",
    "# Plotting surrounding players from 'freeze_frame' column\n",
    "for x in df_row['freeze_frame']:\n",
    "    if x['teammate']:\n",
    "        color='#ad993c'\n",
    "    else:\n",
    "        color='#ba4f45'\n",
    "    p.scatter(x=x['location'][0], y=x['location'][1], ax=ax, c=color, s=100)\n",
    "    \n",
    "fig.suptitle(\"Messi's assist vs Netherlands during 2022 World Cup Quarterfinal\", fontsize = 30)"
   ]
  },
  {
   "cell_type": "markdown",
   "id": "7c2e3a84",
   "metadata": {},
   "source": [
    "# Plotting Messi's pass to shot vs Netherlands During 2022 World Cup Quarterfinal"
   ]
  },
  {
   "cell_type": "code",
   "execution_count": null,
   "id": "2eb12f30",
   "metadata": {},
   "outputs": [],
   "source": [
    "# Setup the pitch\n",
    "p = Pitch(pitch_type='statsbomb')\n",
    "fig, ax = p.draw(figsize=(12, 8))\n",
    "\n",
    "# Specifying plotted pass to plot row 43\n",
    "df_row = df.iloc[43]\n",
    "\n",
    "p.scatter(x=df_row['x_start'], y=df_row['y_start'], ax=ax)\n",
    "p.lines(xstart=df_row['x_start'], ystart=df_row['y_start'], xend=df_row['x_end'], yend=df_row['y_end'], ax=ax)\n",
    "\n",
    "for x in df_row['freeze_frame']:\n",
    "    if x['teammate']:\n",
    "        color = 'blue'\n",
    "    else:\n",
    "        color = 'red'\n",
    "    p.scatter(x=x['location'][0], y=x['location'][1], ax=ax, c=color, s=100)\n",
    "    \n",
    "fig.suptitle(\"Messi's pass to shot vs Netherlands during 2022 World Cup Quarterfinal\", fontsize = 30)"
   ]
  },
  {
   "cell_type": "markdown",
   "id": "1467b9c0",
   "metadata": {},
   "source": [
    "# Plotting Messi's Pass Under Pressure vs France During 2022 World Cup Final"
   ]
  },
  {
   "cell_type": "code",
   "execution_count": null,
   "id": "22cf3f5e",
   "metadata": {},
   "outputs": [],
   "source": [
    "# Retrieving event data for specific match\n",
    "MATCH_ID = 3869685"
   ]
  },
  {
   "cell_type": "code",
   "execution_count": null,
   "id": "69cfee0d",
   "metadata": {},
   "outputs": [],
   "source": [
    "# Defining 'under_pressure_values'\n",
    "under_pressure_values = match_events_df['under_pressure']"
   ]
  },
  {
   "cell_type": "code",
   "execution_count": null,
   "id": "3beeb7f4",
   "metadata": {},
   "outputs": [],
   "source": [
    "df['under_pressure_values'] = under_pressure_values"
   ]
  },
  {
   "cell_type": "code",
   "execution_count": null,
   "id": "33928899",
   "metadata": {},
   "outputs": [],
   "source": [
    "# Looking at the data for this column\n",
    "df.under_pressure_values"
   ]
  },
  {
   "cell_type": "code",
   "execution_count": null,
   "id": "5e2003e3",
   "metadata": {},
   "outputs": [],
   "source": [
    "# Replicating the process with 'pass outcome'\n",
    "pass_outcome_values = match_events_df['pass_outcome']"
   ]
  },
  {
   "cell_type": "code",
   "execution_count": null,
   "id": "966e3ee9",
   "metadata": {},
   "outputs": [],
   "source": [
    "df['pass_outcome_values'] = pass_outcome_values"
   ]
  },
  {
   "cell_type": "code",
   "execution_count": null,
   "id": "f8bca1b7",
   "metadata": {},
   "outputs": [],
   "source": [
    "# Filling null values with 'Complete'\n",
    "df['pass_outcome_values'] = df['pass_outcome_values'].fillna('Complete')"
   ]
  },
  {
   "cell_type": "code",
   "execution_count": null,
   "id": "87471fd6",
   "metadata": {},
   "outputs": [],
   "source": [
    "df.pass_outcome_values"
   ]
  },
  {
   "cell_type": "code",
   "execution_count": null,
   "id": "57a631f3",
   "metadata": {},
   "outputs": [],
   "source": [
    "df.location"
   ]
  },
  {
   "cell_type": "code",
   "execution_count": null,
   "id": "4b657189",
   "metadata": {},
   "outputs": [],
   "source": [
    "# Displaying the values from 'pass_outcome_values' where 'under_pressure_values' is True\n",
    "indexes = df[df['under_pressure_values'] == True].index\n",
    "output_values = df.loc[indexes, 'pass_outcome_values']\n",
    "print(output_values)"
   ]
  },
  {
   "cell_type": "code",
   "execution_count": null,
   "id": "411c7f82",
   "metadata": {},
   "outputs": [],
   "source": [
    "# Setup the pitch\n",
    "p = Pitch(pitch_type='statsbomb', pitch_color='#22312b', line_color='#c7d5cc')\n",
    "fig, ax = p.draw(figsize=(16, 11), constrained_layout=False, tight_layout=True)\n",
    "fig.set_facecolor('#22312b')\n",
    "\n",
    "# Specifying plotted pass to plot row 27\n",
    "df_row = df.iloc[27]\n",
    "\n",
    "# Plotting the pass\n",
    "p.scatter(x=df_row['x_start'], y=df_row['y_start'], ax=ax)\n",
    "p.lines(xstart=df_row['x_start'], ystart=df_row['y_start'], xend=df_row['x_end'], yend=df_row['y_end'], color='#ad993c', ax=ax)\n",
    "\n",
    "# Plotting surrounding players from 'freeze_frame' column\n",
    "for x in df_row['freeze_frame']:\n",
    "    if x['teammate']:\n",
    "        color='#ad993c'\n",
    "    else:\n",
    "        color='#ba4f45'\n",
    "    p.scatter(x=x['location'][0], y=x['location'][1], ax=ax, c=color, s=100)\n",
    "\n",
    "# Title    \n",
    "fig.suptitle(\"Pass Under Pressure vs France during 2022 World Cup Final\", fontsize = 30)"
   ]
  },
  {
   "cell_type": "markdown",
   "id": "55ad59ea",
   "metadata": {},
   "source": [
    "# Messi's Progressive Passes vs France During 2022 World Cup Final"
   ]
  },
  {
   "cell_type": "code",
   "execution_count": null,
   "id": "e0786d91",
   "metadata": {},
   "outputs": [],
   "source": [
    "# Manually inputting the location of his passes and creating 'Beginning' and 'end' columns\n",
    "\n",
    "df = pd.DataFrame({'location': [\n",
    "    [76.6, 35.7],\n",
    "    [99.3, 57.3],\n",
    "    [67.9, 59.0],\n",
    "    [81.8, 65.2],\n",
    "    [39.2, 48.1],\n",
    "    [120.0, 80.0],\n",
    "    [108.2, 74.4],\n",
    "    [80.5, 47.8],\n",
    "    [52.5, 56.4],\n",
    "    [95.2, 48.5],    \n",
    "    [89.3, 58.8],\n",
    "    [89.5, 65.0],\n",
    "    [120.0, 80.0],\n",
    "    [81.8, 38.6],\n",
    "    [45.8, 59.4],\n",
    "    [68.1, 54.5],\n",
    "    [92.7, 47.6],\n",
    "    [80.3, 57.7],\n",
    "    [52.9, 61.8],\n",
    "    [48.0, 42.5],\n",
    "    [44.6, 28.4],\n",
    "    [37.5, 53.8],\n",
    "    [80.3, 56.4],\n",
    "    [82.0, 22.8],\n",
    "    [61.0, 40.1],    \n",
    "    [70.6, 21.1],\n",
    "    [100.4, 65.2],\n",
    "    [81.3, 32.9],\n",
    "    [77.5, 74.6],\n",
    "    [92.4, 60.9],\n",
    "    [120.0, 80.0],\n",
    "    [67.6, 71.8],\n",
    "    [64.0, 43.4],\n",
    "    [74.7, 19.8],\n",
    "    [97.8, 9.6],\n",
    "    [57.6, 59.6],\n",
    "    [32.6, 72.9],\n",
    "    [106.8, 23.9],\n",
    "    [49.0, 66.5],\n",
    "    [85.6, 72.7],\n",
    "    [86.7, 76.1],\n",
    "    [92.9, 64.8],\n",
    "    [61.0, 40.1],\n",
    "    [75.8, 60.3],\n",
    "    [94.6, 61.1],\n",
    "    [83.0, 51.3],\n",
    "    [120.0, 0.1],\n",
    "    [30.4, 27.5],\n",
    "    [101.4, 35.2],\n",
    "    [79.8, 72.0],\n",
    "    [78.3, 73.9],\n",
    "    [73.6, 46.8],\n",
    "    [86.0, 34.4],\n",
    "    [103.4, 37.6],\n",
    "    [120.0, 0.1],\n",
    "    [92.9, 60.1],\n",
    "    [91.2, 58.8],\n",
    "    [120.0, 0.1],\n",
    "    [74.1, 34.6],\n",
    "    [66.8, 62.6],\n",
    "]})\n",
    "\n",
    "df[['end_x', 'end_y']] = df['location'].shift(-1)[:-1].apply(lambda coord: pd.Series([coord[0], coord[1]]))\n",
    "\n",
    "df['Beginning'] = np.sqrt(np.square(120 - df['location'].apply(lambda coord: coord[0])) +\n",
    "                          np.square(40 - df['location'].apply(lambda coord: coord[1])))\n",
    "\n",
    "df['end'] = np.sqrt(np.square(120 - df['end_x']) + np.square(40 - df['end_y']))"
   ]
  },
  {
   "cell_type": "code",
   "execution_count": null,
   "id": "f53ed661",
   "metadata": {},
   "outputs": [],
   "source": [
    "# Extracting 'x' and 'y' values from 'location' column\n",
    "df['x'] = df['location'].str[0]\n",
    "df['y'] = df['location'].str[1]"
   ]
  },
  {
   "cell_type": "code",
   "execution_count": null,
   "id": "805c0b0c",
   "metadata": {},
   "outputs": [],
   "source": [
    "df.head(20)"
   ]
  },
  {
   "cell_type": "code",
   "execution_count": null,
   "id": "0208021d",
   "metadata": {},
   "outputs": [],
   "source": [
    "# Defining progressive pass\n",
    "df['progressive'] = [(df['end'][x]) / (df['Beginning'][x]) < .75 for x in range(len(df.Beginning))]"
   ]
  },
  {
   "cell_type": "code",
   "execution_count": null,
   "id": "dbb95ed6",
   "metadata": {},
   "outputs": [],
   "source": [
    "# Filtering for passes that were progressive\n",
    "df = df.loc[df['progressive']==True].reset_index()"
   ]
  },
  {
   "cell_type": "code",
   "execution_count": null,
   "id": "f37060c8",
   "metadata": {},
   "outputs": [],
   "source": [
    "pass_outcome_values = match_events_df['pass_outcome']\n",
    "df['pass_outcome_values'] = pass_outcome_values"
   ]
  },
  {
   "cell_type": "code",
   "execution_count": null,
   "id": "e890a121",
   "metadata": {},
   "outputs": [],
   "source": [
    "# Filling null values with 'Complete'\n",
    "df['pass_outcome_values'] = df['pass_outcome_values'].fillna('Complete')"
   ]
  },
  {
   "cell_type": "code",
   "execution_count": null,
   "id": "55ed3ff3",
   "metadata": {},
   "outputs": [],
   "source": [
    "df.pass_outcome_values"
   ]
  },
  {
   "cell_type": "code",
   "execution_count": null,
   "id": "236f9da4",
   "metadata": {},
   "outputs": [],
   "source": [
    "# Viewing passes that were progressive\n",
    "df.progressive"
   ]
  },
  {
   "cell_type": "code",
   "execution_count": null,
   "id": "5e896a19",
   "metadata": {},
   "outputs": [],
   "source": [
    "# Setup the pitch\n",
    "p = Pitch(pitch_type='statsbomb', pitch_color='#22312b', line_color='#c7d5cc')\n",
    "fig, ax = p.draw(figsize=(12,8), constrained_layout=False, tight_layout=True)\n",
    "fig.set_facecolor('#22312b')\n",
    "\n",
    "# Iterating over the rows to plot the specified passes\n",
    "for _, row in df.iterrows():\n",
    "    x_start, y_start = row['x'], row['y']\n",
    "    x_end, y_end = row['end_x'], row['end_y']\n",
    "    \n",
    "    if row['pass_outcome_values'] == 'Complete':\n",
    "        color='#ad993c'  \n",
    "    else:\n",
    "        color='#ba4f45'  \n",
    "        \n",
    "    p.lines(x_start, y_start, x_end, y_end, ax=ax, transparent=True, comet=True, color=color)\n",
    "    \n",
    "fig.suptitle(\"Messi's progressive passes vs France during 2022 World Cup Final\", fontsize=30)\n",
    "        \n",
    "plt.show()"
   ]
  }
 ],
 "metadata": {
  "kernelspec": {
   "display_name": "Python 3 (ipykernel)",
   "language": "python",
   "name": "python3"
  },
  "language_info": {
   "codemirror_mode": {
    "name": "ipython",
    "version": 3
   },
   "file_extension": ".py",
   "mimetype": "text/x-python",
   "name": "python",
   "nbconvert_exporter": "python",
   "pygments_lexer": "ipython3",
   "version": "3.10.9"
  }
 },
 "nbformat": 4,
 "nbformat_minor": 5
}
