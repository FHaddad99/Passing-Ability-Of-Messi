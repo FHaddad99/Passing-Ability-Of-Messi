{
 "cells": [
  {
   "cell_type": "code",
   "execution_count": 70,
   "id": "719cb760",
   "metadata": {},
   "outputs": [],
   "source": [
    "#importing necessary libraries\n",
    "import matplotlib.pyplot as plt\n",
    "import numpy as np\n",
    "from mplsoccer import Pitch, Sbopen\n",
    "from statsbombpy import sb\n",
    "import os\n",
    "import pandas as pd"
   ]
  },
  {
   "cell_type": "code",
   "execution_count": 73,
   "id": "982f48f5",
   "metadata": {},
   "outputs": [
    {
     "name": "stdout",
     "output_type": "stream",
     "text": [
      "[3857254, 3857255, 3857256, 3857257, 3857258, 3857259, 3857260, 3857261, 3857262, 3857263, 3857264, 3857265, 3857266, 3857267, 3857268, 3857269, 3857270, 3857271, 3857272, 3857273, 3857274, 3857275, 3857276, 3857277, 3857278, 3857279, 3857280, 3857281, 3857282, 3857283, 3857284, 3857285, 3857286, 3857287, 3857288, 3857289, 3857290, 3857291, 3857292, 3857293, 3857294, 3857295, 3857296, 3857297, 3857298, 3857299, 3857300, 3857301, 3869117, 3869118, 3869151, 3869152, 3869219, 3869220, 3869253, 3869254, 3869321, 3869354, 3869420, 3869486, 3869519, 3869552, 3869684, 3869685]\n",
      "Count: 64\n"
     ]
    }
   ],
   "source": [
    "file_path = \"C:/Users/PC/OneDrive/Documents/GitHub/open-data/data/three-sixty\"\n",
    "matching_match_ids = []\n",
    "\n",
    "# Obtain the match IDs from sb.matches\n",
    "match_ids = sb.matches(competition_id=43, season_id=106).match_id.tolist()\n",
    "\n",
    "# Iterate over the filenames in the three-sixty data directory\n",
    "for filename in os.listdir(file_path):\n",
    "    # Extract the match ID from the filename\n",
    "    match_id = int(filename.split(\".\")[0])  # Assuming the match ID is the part before the file extension\n",
    "    \n",
    "    # Check if the match ID exists in the match_ids list\n",
    "    if match_id in match_ids:\n",
    "        matching_match_ids.append(match_id)\n",
    "\n",
    "# Print the matching match IDs\n",
    "print(matching_match_ids)\n",
    "\n",
    "count = len(matching_match_ids)\n",
    "print(\"Count:\", count)"
   ]
  }
 ],
 "metadata": {
  "kernelspec": {
   "display_name": "Python 3 (ipykernel)",
   "language": "python",
   "name": "python3"
  },
  "language_info": {
   "codemirror_mode": {
    "name": "ipython",
    "version": 3
   },
   "file_extension": ".py",
   "mimetype": "text/x-python",
   "name": "python",
   "nbconvert_exporter": "python",
   "pygments_lexer": "ipython3",
   "version": "3.10.9"
  }
 },
 "nbformat": 4,
 "nbformat_minor": 5
}
